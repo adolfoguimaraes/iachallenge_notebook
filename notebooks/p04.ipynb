{
  "nbformat": 4,
  "nbformat_minor": 0,
  "metadata": {
    "colab": {
      "name": "p04.ipynb",
      "provenance": [],
      "include_colab_link": true
    },
    "kernelspec": {
      "name": "python3",
      "display_name": "Python 3"
    }
  },
  "cells": [
    {
      "cell_type": "markdown",
      "metadata": {
        "id": "view-in-github",
        "colab_type": "text"
      },
      "source": [
        "<a href=\"https://colab.research.google.com/github/adolfoguimaraes/iachallenge_notebook/blob/master/notebooks/p04.ipynb\" target=\"_parent\"><img src=\"https://colab.research.google.com/assets/colab-badge.svg\" alt=\"Open In Colab\"/></a>"
      ]
    },
    {
      "cell_type": "markdown",
      "metadata": {
        "id": "f_q8vmD2KWYl",
        "colab_type": "text"
      },
      "source": [
        "# Problema 4 - Venda de Casas\n",
        "\n",
        "O objetivo deste problema é criar um modelo que seja capaz de prever por quanto uma casa seria vendida dada uma série de informações sobre a região. \n",
        "\n",
        "A base possui os seguintes atributos: \n",
        "\n",
        "* crim: per capita crime rate by town.\n",
        "* zn: proportion of residential land zoned for lots over 25,000 sq.ft.\n",
        "* indus: proportion of non-retail business acres per town.\n",
        "* chas: Charles River dummy variable (= 1 if tract bounds river; 0 otherwise).\n",
        "* nox: nitrogen oxides concentration (parts per 10 million).\n",
        "* rm: average number of rooms per dwelling.\n",
        "* age: proportion of owner-occupied units built prior to 1940.\n",
        "* dis: weighted mean of distances to five Boston employment centres.\n",
        "* rad: index of accessibility to radial highways.\n",
        "* tax: full-value property-tax rate per \\$10,000.\n",
        "* ptratio: pupil-teacher ratio by town.\n",
        "* black: 1000(Bk - 0.63)^2 where Bk is the proportion of blacks by town.\n",
        "* lstat: lower status of the population (percent).\n",
        "* target: median value of owner-occupied homes in \\$1000s.\n",
        "\n",
        "O objetivo é prever o atributo **target**."
      ]
    },
    {
      "cell_type": "code",
      "metadata": {
        "id": "QD8nghmsK7nC",
        "colab_type": "code",
        "colab": {}
      },
      "source": [
        "import pandas as pd"
      ],
      "execution_count": 0,
      "outputs": []
    },
    {
      "cell_type": "code",
      "metadata": {
        "id": "UVdLkJfOKVYg",
        "colab_type": "code",
        "colab": {}
      },
      "source": [
        "# Download da Base  (Treino e Teste)\n",
        "\n",
        "house_dataset_train = pd.read_csv(\"https://www.data2learning.com/repo/iachallenge/train_house.csv\")\n",
        "house_dataset_test = pd.read_csv(\"https://www.data2learning.com/repo/iachallenge/test_house.csv\")"
      ],
      "execution_count": 0,
      "outputs": []
    },
    {
      "cell_type": "code",
      "metadata": {
        "id": "9V7ZHR6SKeul",
        "colab_type": "code",
        "colab": {
          "base_uri": "https://localhost:8080/",
          "height": 204
        },
        "outputId": "d762c84a-d51a-42f2-de06-de3fdcaf718c"
      },
      "source": [
        "# Exemplo da base de treinamento\n",
        "\n",
        "house_dataset_train.head()"
      ],
      "execution_count": 5,
      "outputs": [
        {
          "output_type": "execute_result",
          "data": {
            "text/html": [
              "<div>\n",
              "<style scoped>\n",
              "    .dataframe tbody tr th:only-of-type {\n",
              "        vertical-align: middle;\n",
              "    }\n",
              "\n",
              "    .dataframe tbody tr th {\n",
              "        vertical-align: top;\n",
              "    }\n",
              "\n",
              "    .dataframe thead th {\n",
              "        text-align: right;\n",
              "    }\n",
              "</style>\n",
              "<table border=\"1\" class=\"dataframe\">\n",
              "  <thead>\n",
              "    <tr style=\"text-align: right;\">\n",
              "      <th></th>\n",
              "      <th>CRIM</th>\n",
              "      <th>ZN</th>\n",
              "      <th>INDUS</th>\n",
              "      <th>CHAS</th>\n",
              "      <th>NOX</th>\n",
              "      <th>RM</th>\n",
              "      <th>AGE</th>\n",
              "      <th>DIS</th>\n",
              "      <th>RAD</th>\n",
              "      <th>TAX</th>\n",
              "      <th>PTRATIO</th>\n",
              "      <th>B</th>\n",
              "      <th>LSTAT</th>\n",
              "      <th>TARGET</th>\n",
              "    </tr>\n",
              "  </thead>\n",
              "  <tbody>\n",
              "    <tr>\n",
              "      <th>0</th>\n",
              "      <td>0.13960</td>\n",
              "      <td>0.0</td>\n",
              "      <td>8.56</td>\n",
              "      <td>0.0</td>\n",
              "      <td>0.5200</td>\n",
              "      <td>6.167</td>\n",
              "      <td>90.0</td>\n",
              "      <td>2.4210</td>\n",
              "      <td>5.0</td>\n",
              "      <td>384.0</td>\n",
              "      <td>20.9</td>\n",
              "      <td>392.69</td>\n",
              "      <td>12.33</td>\n",
              "      <td>20.1</td>\n",
              "    </tr>\n",
              "    <tr>\n",
              "      <th>1</th>\n",
              "      <td>0.03510</td>\n",
              "      <td>95.0</td>\n",
              "      <td>2.68</td>\n",
              "      <td>0.0</td>\n",
              "      <td>0.4161</td>\n",
              "      <td>7.853</td>\n",
              "      <td>33.2</td>\n",
              "      <td>5.1180</td>\n",
              "      <td>4.0</td>\n",
              "      <td>224.0</td>\n",
              "      <td>14.7</td>\n",
              "      <td>392.78</td>\n",
              "      <td>3.81</td>\n",
              "      <td>48.5</td>\n",
              "    </tr>\n",
              "    <tr>\n",
              "      <th>2</th>\n",
              "      <td>15.87440</td>\n",
              "      <td>0.0</td>\n",
              "      <td>18.10</td>\n",
              "      <td>0.0</td>\n",
              "      <td>0.6710</td>\n",
              "      <td>6.545</td>\n",
              "      <td>99.1</td>\n",
              "      <td>1.5192</td>\n",
              "      <td>24.0</td>\n",
              "      <td>666.0</td>\n",
              "      <td>20.2</td>\n",
              "      <td>396.90</td>\n",
              "      <td>21.08</td>\n",
              "      <td>10.9</td>\n",
              "    </tr>\n",
              "    <tr>\n",
              "      <th>3</th>\n",
              "      <td>0.18337</td>\n",
              "      <td>0.0</td>\n",
              "      <td>27.74</td>\n",
              "      <td>0.0</td>\n",
              "      <td>0.6090</td>\n",
              "      <td>5.414</td>\n",
              "      <td>98.3</td>\n",
              "      <td>1.7554</td>\n",
              "      <td>4.0</td>\n",
              "      <td>711.0</td>\n",
              "      <td>20.1</td>\n",
              "      <td>344.05</td>\n",
              "      <td>23.97</td>\n",
              "      <td>7.0</td>\n",
              "    </tr>\n",
              "    <tr>\n",
              "      <th>4</th>\n",
              "      <td>0.12816</td>\n",
              "      <td>12.5</td>\n",
              "      <td>6.07</td>\n",
              "      <td>0.0</td>\n",
              "      <td>0.4090</td>\n",
              "      <td>5.885</td>\n",
              "      <td>33.0</td>\n",
              "      <td>6.4980</td>\n",
              "      <td>4.0</td>\n",
              "      <td>345.0</td>\n",
              "      <td>18.9</td>\n",
              "      <td>396.90</td>\n",
              "      <td>8.79</td>\n",
              "      <td>20.9</td>\n",
              "    </tr>\n",
              "  </tbody>\n",
              "</table>\n",
              "</div>"
            ],
            "text/plain": [
              "       CRIM    ZN  INDUS  CHAS     NOX  ...    TAX  PTRATIO       B  LSTAT  TARGET\n",
              "0   0.13960   0.0   8.56   0.0  0.5200  ...  384.0     20.9  392.69  12.33    20.1\n",
              "1   0.03510  95.0   2.68   0.0  0.4161  ...  224.0     14.7  392.78   3.81    48.5\n",
              "2  15.87440   0.0  18.10   0.0  0.6710  ...  666.0     20.2  396.90  21.08    10.9\n",
              "3   0.18337   0.0  27.74   0.0  0.6090  ...  711.0     20.1  344.05  23.97     7.0\n",
              "4   0.12816  12.5   6.07   0.0  0.4090  ...  345.0     18.9  396.90   8.79    20.9\n",
              "\n",
              "[5 rows x 14 columns]"
            ]
          },
          "metadata": {
            "tags": []
          },
          "execution_count": 5
        }
      ]
    },
    {
      "cell_type": "code",
      "metadata": {
        "id": "iC_2Veu8Kgo4",
        "colab_type": "code",
        "colab": {}
      },
      "source": [
        "# Insira seu código a partir deste espaço"
      ],
      "execution_count": 0,
      "outputs": []
    },
    {
      "cell_type": "markdown",
      "metadata": {
        "id": "-iPc6ciGKm2K",
        "colab_type": "text"
      },
      "source": [
        "## Base de testes\n",
        "\n",
        "Após treinar, deve-se fazer a predição da base de testes utilizando o modelo treinado."
      ]
    },
    {
      "cell_type": "code",
      "metadata": {
        "id": "BCen1RX0Kpdh",
        "colab_type": "code",
        "colab": {
          "base_uri": "https://localhost:8080/",
          "height": 204
        },
        "outputId": "2c8a39ad-37d4-4e16-e599-0c7abf3e774f"
      },
      "source": [
        "# Exemplo da base de teste\n",
        "\n",
        "house_dataset_test.head()"
      ],
      "execution_count": 6,
      "outputs": [
        {
          "output_type": "execute_result",
          "data": {
            "text/html": [
              "<div>\n",
              "<style scoped>\n",
              "    .dataframe tbody tr th:only-of-type {\n",
              "        vertical-align: middle;\n",
              "    }\n",
              "\n",
              "    .dataframe tbody tr th {\n",
              "        vertical-align: top;\n",
              "    }\n",
              "\n",
              "    .dataframe thead th {\n",
              "        text-align: right;\n",
              "    }\n",
              "</style>\n",
              "<table border=\"1\" class=\"dataframe\">\n",
              "  <thead>\n",
              "    <tr style=\"text-align: right;\">\n",
              "      <th></th>\n",
              "      <th>INDEX</th>\n",
              "      <th>CRIM</th>\n",
              "      <th>ZN</th>\n",
              "      <th>INDUS</th>\n",
              "      <th>CHAS</th>\n",
              "      <th>NOX</th>\n",
              "      <th>RM</th>\n",
              "      <th>AGE</th>\n",
              "      <th>DIS</th>\n",
              "      <th>RAD</th>\n",
              "      <th>TAX</th>\n",
              "      <th>PTRATIO</th>\n",
              "      <th>B</th>\n",
              "      <th>LSTAT</th>\n",
              "    </tr>\n",
              "  </thead>\n",
              "  <tbody>\n",
              "    <tr>\n",
              "      <th>0</th>\n",
              "      <td>0</td>\n",
              "      <td>0.09178</td>\n",
              "      <td>0.0</td>\n",
              "      <td>4.05</td>\n",
              "      <td>0.0</td>\n",
              "      <td>0.510</td>\n",
              "      <td>6.416</td>\n",
              "      <td>84.1</td>\n",
              "      <td>2.6463</td>\n",
              "      <td>5.0</td>\n",
              "      <td>296.0</td>\n",
              "      <td>16.6</td>\n",
              "      <td>395.50</td>\n",
              "      <td>9.04</td>\n",
              "    </tr>\n",
              "    <tr>\n",
              "      <th>1</th>\n",
              "      <td>1</td>\n",
              "      <td>0.05644</td>\n",
              "      <td>40.0</td>\n",
              "      <td>6.41</td>\n",
              "      <td>1.0</td>\n",
              "      <td>0.447</td>\n",
              "      <td>6.758</td>\n",
              "      <td>32.9</td>\n",
              "      <td>4.0776</td>\n",
              "      <td>4.0</td>\n",
              "      <td>254.0</td>\n",
              "      <td>17.6</td>\n",
              "      <td>396.90</td>\n",
              "      <td>3.53</td>\n",
              "    </tr>\n",
              "    <tr>\n",
              "      <th>2</th>\n",
              "      <td>2</td>\n",
              "      <td>0.10574</td>\n",
              "      <td>0.0</td>\n",
              "      <td>27.74</td>\n",
              "      <td>0.0</td>\n",
              "      <td>0.609</td>\n",
              "      <td>5.983</td>\n",
              "      <td>98.8</td>\n",
              "      <td>1.8681</td>\n",
              "      <td>4.0</td>\n",
              "      <td>711.0</td>\n",
              "      <td>20.1</td>\n",
              "      <td>390.11</td>\n",
              "      <td>18.07</td>\n",
              "    </tr>\n",
              "    <tr>\n",
              "      <th>3</th>\n",
              "      <td>3</td>\n",
              "      <td>0.09164</td>\n",
              "      <td>0.0</td>\n",
              "      <td>10.81</td>\n",
              "      <td>0.0</td>\n",
              "      <td>0.413</td>\n",
              "      <td>6.065</td>\n",
              "      <td>7.8</td>\n",
              "      <td>5.2873</td>\n",
              "      <td>4.0</td>\n",
              "      <td>305.0</td>\n",
              "      <td>19.2</td>\n",
              "      <td>390.91</td>\n",
              "      <td>5.52</td>\n",
              "    </tr>\n",
              "    <tr>\n",
              "      <th>4</th>\n",
              "      <td>4</td>\n",
              "      <td>5.09017</td>\n",
              "      <td>0.0</td>\n",
              "      <td>18.10</td>\n",
              "      <td>0.0</td>\n",
              "      <td>0.713</td>\n",
              "      <td>6.297</td>\n",
              "      <td>91.8</td>\n",
              "      <td>2.3682</td>\n",
              "      <td>24.0</td>\n",
              "      <td>666.0</td>\n",
              "      <td>20.2</td>\n",
              "      <td>385.09</td>\n",
              "      <td>17.27</td>\n",
              "    </tr>\n",
              "  </tbody>\n",
              "</table>\n",
              "</div>"
            ],
            "text/plain": [
              "   INDEX     CRIM    ZN  INDUS  CHAS  ...   RAD    TAX  PTRATIO       B  LSTAT\n",
              "0      0  0.09178   0.0   4.05   0.0  ...   5.0  296.0     16.6  395.50   9.04\n",
              "1      1  0.05644  40.0   6.41   1.0  ...   4.0  254.0     17.6  396.90   3.53\n",
              "2      2  0.10574   0.0  27.74   0.0  ...   4.0  711.0     20.1  390.11  18.07\n",
              "3      3  0.09164   0.0  10.81   0.0  ...   4.0  305.0     19.2  390.91   5.52\n",
              "4      4  5.09017   0.0  18.10   0.0  ...  24.0  666.0     20.2  385.09  17.27\n",
              "\n",
              "[5 rows x 14 columns]"
            ]
          },
          "metadata": {
            "tags": []
          },
          "execution_count": 6
        }
      ]
    },
    {
      "cell_type": "code",
      "metadata": {
        "id": "sBfupSYNLTUc",
        "colab_type": "code",
        "colab": {}
      },
      "source": [
        "# Inclua neste espaço seu código para fazer a predição. Salve a predição na variável predict_values"
      ],
      "execution_count": 0,
      "outputs": []
    },
    {
      "cell_type": "markdown",
      "metadata": {
        "id": "IHvkyDCfLZR-",
        "colab_type": "text"
      },
      "source": [
        "## Geração do arquivo de submissão\n",
        "\n",
        "Com a lista resultante da aplicação dos modelos de predição, utilize a função a seguir para gerar o arquivo de submissão. \n",
        "\n",
        "O arquivo de submissão é formado por duas colunas. Na primeira tem o a coluna index da base de testes e a segunda o valor encontrado pelo modelo. No documento gerado, a primeira coluna é nomeada de **id** e a segunda de **target**. É fundamental que o arquivo tenha exatamente esse formato. \n",
        "\n",
        "O código no final do notebook faz o download do arquivo gerado."
      ]
    },
    {
      "cell_type": "code",
      "metadata": {
        "id": "0-lrV6q1LFAr",
        "colab_type": "code",
        "colab": {}
      },
      "source": [
        "# Lista de Ids para gerar o arquivo final\n",
        "X_ids = house_dataset_test[['INDEX']]\n",
        "X_ids = list(X_ids['INDEX'])"
      ],
      "execution_count": 0,
      "outputs": []
    },
    {
      "cell_type": "code",
      "metadata": {
        "id": "_BidrVCTKshf",
        "colab_type": "code",
        "colab": {}
      },
      "source": [
        "# Gera o CSV no formado de submissão\n",
        "\n",
        "# id_values: lista de ids da base de dados\n",
        "# predict_result: lista resultante da aplicação do predict do modelo escolhido\n",
        "# filename: nome do arquivo\n",
        "\n",
        "def generate_csv(id_values, predict_result, filename):\n",
        "    count = 0\n",
        "    values = []\n",
        "    for id_value in id_values:\n",
        "        values.append((id_value, int(predict_result[count])))\n",
        "        count += 1\n",
        "\n",
        "    df = pd.DataFrame(values, columns=['id','target']) \n",
        "    df.to_csv(filename + \".csv\", sep=',', columns=['id','target'], index=False)"
      ],
      "execution_count": 0,
      "outputs": []
    },
    {
      "cell_type": "code",
      "metadata": {
        "id": "D_bD4G7eKxAi",
        "colab_type": "code",
        "colab": {}
      },
      "source": [
        "# Gera o csv no formato de submissão do sistema\n",
        "generate_csv(X_ids, predict_values, \"p4_teste\")"
      ],
      "execution_count": 0,
      "outputs": []
    },
    {
      "cell_type": "code",
      "metadata": {
        "id": "_OKbrkgxK0Rx",
        "colab_type": "code",
        "colab": {}
      },
      "source": [
        "# Baixa o arquivo do colab\n",
        "\n",
        "from google.colab import files\n",
        "\n",
        "files.download(\"p4_teste.csv\")"
      ],
      "execution_count": 0,
      "outputs": []
    }
  ]
}