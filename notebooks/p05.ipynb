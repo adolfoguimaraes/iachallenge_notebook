{
  "nbformat": 4,
  "nbformat_minor": 0,
  "metadata": {
    "colab": {
      "name": "p05.ipynb",
      "provenance": [],
      "collapsed_sections": [],
      "include_colab_link": true
    },
    "kernelspec": {
      "name": "python3",
      "display_name": "Python 3"
    },
    "accelerator": "GPU"
  },
  "cells": [
    {
      "cell_type": "markdown",
      "metadata": {
        "id": "view-in-github",
        "colab_type": "text"
      },
      "source": [
        "<a href=\"https://colab.research.google.com/github/adolfoguimaraes/iachallenge_notebook/blob/master/notebooks/p05.ipynb\" target=\"_parent\"><img src=\"https://colab.research.google.com/assets/colab-badge.svg\" alt=\"Open In Colab\"/></a>"
      ]
    },
    {
      "cell_type": "markdown",
      "metadata": {
        "id": "byPQpj2XYCjT",
        "colab_type": "text"
      },
      "source": [
        "# Análise de Sentimento em Português\n",
        "\n",
        "A proposta deste desafio é construir um modelo de análise de sentimento para o português a partir de tweets coletados sem uma temática definida. A base de dados está disponível em: \n",
        "\n",
        "https://www.kaggle.com/augustop/portuguese-tweets-for-sentiment-analysis/\n",
        "\n",
        "Para treinar utilize um dos modelos que estão na pasta \"TrainingDatasets\". No exemplo a seguir usamos o de 100000 tweets (Train100.csv). "
      ]
    },
    {
      "cell_type": "markdown",
      "metadata": {
        "id": "is5h9djpCU_x",
        "colab_type": "text"
      },
      "source": [
        "## Carregando a base de Treinamento\n",
        "\n",
        "No exemplo, a base de treinamento foi baixada e colocada no Google Drive. O Colab permite ler direto do drive. No entanto, deve-se montar uma partição para seu drive. O código a seguir faz isso. "
      ]
    },
    {
      "cell_type": "code",
      "metadata": {
        "id": "XK3DBtWEUOKx",
        "colab_type": "code",
        "colab": {}
      },
      "source": [
        "from google.colab import drive\n",
        "drive.mount('/content/drive')"
      ],
      "execution_count": 0,
      "outputs": []
    },
    {
      "cell_type": "code",
      "metadata": {
        "id": "cg8PKqxNUVGq",
        "colab_type": "code",
        "colab": {}
      },
      "source": [
        "# Import pandas e numpy\n",
        "import pandas as pd\n",
        "import numpy as np"
      ],
      "execution_count": 0,
      "outputs": []
    },
    {
      "cell_type": "code",
      "metadata": {
        "id": "AgzrP3SYUZnh",
        "colab_type": "code",
        "colab": {}
      },
      "source": [
        "# Ler a base de treinamento diretamente da pasta no drive. Mude o caminho para o caminho para sua pasta. \n",
        "database = pd.read_csv(\"/content/drive/My Drive/databases/tweets_ptbr/Train100.csv\", sep=\";\")"
      ],
      "execution_count": 0,
      "outputs": []
    },
    {
      "cell_type": "code",
      "metadata": {
        "id": "gQRvY45YUlBu",
        "colab_type": "code",
        "colab": {}
      },
      "source": [
        "# Visualiza a base de dados \n",
        "database.head()"
      ],
      "execution_count": 0,
      "outputs": []
    },
    {
      "cell_type": "code",
      "metadata": {
        "id": "DH9Lkv7tVLBg",
        "colab_type": "code",
        "colab": {}
      },
      "source": [
        "# Tamanho da base\n",
        "database.shape"
      ],
      "execution_count": 0,
      "outputs": []
    },
    {
      "cell_type": "code",
      "metadata": {
        "id": "eqi2U8I2VShn",
        "colab_type": "code",
        "colab": {}
      },
      "source": [
        "X = database.tweet_text\n",
        "y = database.sentiment"
      ],
      "execution_count": 0,
      "outputs": []
    },
    {
      "cell_type": "code",
      "metadata": {
        "id": "ZI-YSqu8XQqs",
        "colab_type": "code",
        "colab": {}
      },
      "source": [
        "# Treine seu modelo a partir deste ponto"
      ],
      "execution_count": 0,
      "outputs": []
    },
    {
      "cell_type": "markdown",
      "metadata": {
        "id": "pAbqgTbUpxkG",
        "colab_type": "text"
      },
      "source": [
        "## Base de Teste\n",
        "\n",
        "A base de teste pode ser baixada neste link: \n"
      ]
    },
    {
      "cell_type": "code",
      "metadata": {
        "id": "PiMh4CN-Q3to",
        "colab_type": "code",
        "colab": {}
      },
      "source": [
        "database_test = pd.read_csv(\"https://www.data2learning.com/repo/iachallenge/test_sentimentpt.csv\")"
      ],
      "execution_count": 0,
      "outputs": []
    },
    {
      "cell_type": "code",
      "metadata": {
        "id": "YVyIsm76RA-A",
        "colab_type": "code",
        "colab": {}
      },
      "source": [
        "database_test.head()"
      ],
      "execution_count": 0,
      "outputs": []
    },
    {
      "cell_type": "code",
      "metadata": {
        "id": "kcjdjQXxRGGE",
        "colab_type": "code",
        "colab": {}
      },
      "source": [
        "# Carrega somente os textos da base de testes\n",
        "X_test = database_test['text']"
      ],
      "execution_count": 0,
      "outputs": []
    },
    {
      "cell_type": "code",
      "metadata": {
        "id": "z6FRrMqORmM6",
        "colab_type": "code",
        "colab": {}
      },
      "source": [
        "# Quantidade de textos\n",
        "X_test.shape"
      ],
      "execution_count": 0,
      "outputs": []
    },
    {
      "cell_type": "code",
      "metadata": {
        "id": "PE9da0CARXHM",
        "colab_type": "code",
        "colab": {}
      },
      "source": [
        "# Inclua neste espaço seu código para fazer a predição. Salve a predição na variável predict_values"
      ],
      "execution_count": 0,
      "outputs": []
    },
    {
      "cell_type": "markdown",
      "metadata": {
        "id": "DogDzXz8FWxO",
        "colab_type": "text"
      },
      "source": [
        "## Geração do arquivo de submissão"
      ]
    },
    {
      "cell_type": "code",
      "metadata": {
        "id": "UfPQTFlMqNda",
        "colab_type": "code",
        "colab": {}
      },
      "source": [
        "# Lista de Ids para gerar o arquivo final\n",
        "X_ids = database_test[['id']]\n",
        "X_ids = list(X_ids['id'])"
      ],
      "execution_count": 0,
      "outputs": []
    },
    {
      "cell_type": "code",
      "metadata": {
        "id": "Ly7LOMlip_Qd",
        "colab_type": "code",
        "colab": {}
      },
      "source": [
        "# Gera o CSV no formado de submissão\n",
        "\n",
        "def generate_csv(id_values, predict_result, filename):\n",
        "    count = 0\n",
        "    values = []\n",
        "    for id_value in id_values:\n",
        "        values.append((id_value, int(predict_result[count])))\n",
        "        count += 1\n",
        "\n",
        "    df = pd.DataFrame(values, columns=['id','class']) \n",
        "    df.to_csv(filename + \".csv\", sep=',', columns=['id','class'], index=False)"
      ],
      "execution_count": 0,
      "outputs": []
    },
    {
      "cell_type": "code",
      "metadata": {
        "id": "pzXMDgQqqMPD",
        "colab_type": "code",
        "colab": {}
      },
      "source": [
        "# Gera o csv no formato de submissão do sistema\n",
        "generate_csv(X_ids, predict_values, \"p5_teste\")"
      ],
      "execution_count": 0,
      "outputs": []
    },
    {
      "cell_type": "code",
      "metadata": {
        "id": "MgkROKFfFrqh",
        "colab_type": "code",
        "colab": {}
      },
      "source": [
        "# Baixa o arquivo do colab\n",
        "\n",
        "from google.colab import files\n",
        "\n",
        "files.download(\"p5_teste.csv\")"
      ],
      "execution_count": 0,
      "outputs": []
    }
  ]
}