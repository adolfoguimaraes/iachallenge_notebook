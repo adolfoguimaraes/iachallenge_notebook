{
  "nbformat": 4,
  "nbformat_minor": 0,
  "metadata": {
    "colab": {
      "name": "P01.ipynb",
      "provenance": [],
      "include_colab_link": true
    },
    "kernelspec": {
      "name": "python3",
      "display_name": "Python 3"
    }
  },
  "cells": [
    {
      "cell_type": "markdown",
      "metadata": {
        "id": "view-in-github",
        "colab_type": "text"
      },
      "source": [
        "<a href=\"https://colab.research.google.com/github/adolfoguimaraes/iachallenge_notebook/blob/master/notebooks/p01.ipynb\" target=\"_parent\"><img src=\"https://colab.research.google.com/assets/colab-badge.svg\" alt=\"Open In Colab\"/></a>"
      ]
    },
    {
      "cell_type": "code",
      "metadata": {
        "id": "gh0TqKvkN1RG",
        "colab_type": "code",
        "colab": {}
      },
      "source": [
        "# Imports Necessários\n",
        "\n",
        "#Bibliotecas\n",
        "import pandas as pd\n",
        "import numpy as np \n",
        "import unicodedata\n",
        "import matplotlib.pyplot as plt\n",
        "import joblib\n",
        "\n",
        "\n",
        "%matplotlib inline"
      ],
      "execution_count": 0,
      "outputs": []
    },
    {
      "cell_type": "markdown",
      "metadata": {
        "id": "AQnnVQFROFhx",
        "colab_type": "text"
      },
      "source": [
        "# Problema 01 - Classificação Homem/Mulher\n",
        "\n",
        "Esse trabalho tem como objevito mostrar alguns conceitos e termos relacionados a área de Machine Learning de forma prática. Vamos a partir de uma base de dados construir um modelo capaz de fazer predição. \n",
        "\n",
        "O problema consiste de uma base de dados que classifica homens e mulheres de acordo com o peso e a altura. Na base, considere que 0 é homem e 1 é mulher. O seu objetivo é implementar um modelo que seja capaz de classificar corretamente instâncias de homens e mulheres com as informações de peso e altura. A seguir é possível ver mais informações da base."
      ]
    },
    {
      "cell_type": "code",
      "metadata": {
        "id": "jdr7WiFmOPJb",
        "colab_type": "code",
        "colab": {}
      },
      "source": [
        "# Download da Base \n",
        "train_dataset = pd.read_csv(\"http://data2learning.com/repo/datasets/060619/p1/train.csv\", index_col=['id'])"
      ],
      "execution_count": 0,
      "outputs": []
    },
    {
      "cell_type": "code",
      "metadata": {
        "id": "D0OCWKT_OTSX",
        "colab_type": "code",
        "outputId": "b25a91c3-7724-4840-8a27-77d98fc2d281",
        "colab": {
          "base_uri": "https://localhost:8080/",
          "height": 235
        }
      },
      "source": [
        "# Exemplo da Base - 5 instâncias\n",
        "train_dataset.head()"
      ],
      "execution_count": 0,
      "outputs": [
        {
          "output_type": "execute_result",
          "data": {
            "text/html": [
              "<div>\n",
              "<style scoped>\n",
              "    .dataframe tbody tr th:only-of-type {\n",
              "        vertical-align: middle;\n",
              "    }\n",
              "\n",
              "    .dataframe tbody tr th {\n",
              "        vertical-align: top;\n",
              "    }\n",
              "\n",
              "    .dataframe thead th {\n",
              "        text-align: right;\n",
              "    }\n",
              "</style>\n",
              "<table border=\"1\" class=\"dataframe\">\n",
              "  <thead>\n",
              "    <tr style=\"text-align: right;\">\n",
              "      <th></th>\n",
              "      <th>weight</th>\n",
              "      <th>height</th>\n",
              "      <th>label</th>\n",
              "    </tr>\n",
              "    <tr>\n",
              "      <th>id</th>\n",
              "      <th></th>\n",
              "      <th></th>\n",
              "      <th></th>\n",
              "    </tr>\n",
              "  </thead>\n",
              "  <tbody>\n",
              "    <tr>\n",
              "      <th>210</th>\n",
              "      <td>31.071052</td>\n",
              "      <td>143.510</td>\n",
              "      <td>0</td>\n",
              "    </tr>\n",
              "    <tr>\n",
              "      <th>185</th>\n",
              "      <td>32.205032</td>\n",
              "      <td>142.875</td>\n",
              "      <td>0</td>\n",
              "    </tr>\n",
              "    <tr>\n",
              "      <th>370</th>\n",
              "      <td>9.213587</td>\n",
              "      <td>83.820</td>\n",
              "      <td>0</td>\n",
              "    </tr>\n",
              "    <tr>\n",
              "      <th>543</th>\n",
              "      <td>52.531624</td>\n",
              "      <td>158.750</td>\n",
              "      <td>1</td>\n",
              "    </tr>\n",
              "    <tr>\n",
              "      <th>396</th>\n",
              "      <td>56.046962</td>\n",
              "      <td>168.275</td>\n",
              "      <td>1</td>\n",
              "    </tr>\n",
              "  </tbody>\n",
              "</table>\n",
              "</div>"
            ],
            "text/plain": [
              "        weight   height  label\n",
              "id                            \n",
              "210  31.071052  143.510      0\n",
              "185  32.205032  142.875      0\n",
              "370   9.213587   83.820      0\n",
              "543  52.531624  158.750      1\n",
              "396  56.046962  168.275      1"
            ]
          },
          "metadata": {
            "tags": []
          },
          "execution_count": 4
        }
      ]
    },
    {
      "cell_type": "code",
      "metadata": {
        "id": "rtK_DpoCOWgC",
        "colab_type": "code",
        "outputId": "e3df969f-7d67-494f-88a6-192ef6547978",
        "colab": {
          "base_uri": "https://localhost:8080/",
          "height": 34
        }
      },
      "source": [
        "# Tamanho da Base \n",
        "train_dataset.shape"
      ],
      "execution_count": 0,
      "outputs": [
        {
          "output_type": "execute_result",
          "data": {
            "text/plain": [
              "(435, 3)"
            ]
          },
          "metadata": {
            "tags": []
          },
          "execution_count": 5
        }
      ]
    },
    {
      "cell_type": "markdown",
      "metadata": {
        "id": "KkIpQMxrOYT6",
        "colab_type": "text"
      },
      "source": [
        "Para ajudar a visualizar como os dados estão distribuídos, o código a seguir plota as informações do dataset. "
      ]
    },
    {
      "cell_type": "code",
      "metadata": {
        "id": "3aUJsMdgOZBI",
        "colab_type": "code",
        "outputId": "ff3bec2f-a73c-45f8-ff1c-c54cbe6fdc64",
        "colab": {
          "base_uri": "https://localhost:8080/",
          "height": 283
        }
      },
      "source": [
        "plt.scatter(train_dataset['weight'], train_dataset['height'],\n",
        "            c=train_dataset['label'], cmap='cividis')\n",
        "plt.xlabel(\"Weight\")\n",
        "plt.ylabel(\"Height\");"
      ],
      "execution_count": 0,
      "outputs": [
        {
          "output_type": "display_data",
          "data": {
            "image/png": "[encoded data removed]",
            "text/plain": [
              "<Figure size 432x288 with 1 Axes>"
            ]
          },
          "metadata": {
            "tags": []
          }
        }
      ]
    },
    {
      "cell_type": "code",
      "metadata": {
        "id": "Nvhi-JiaOdnD",
        "colab_type": "code",
        "colab": {}
      },
      "source": [
        "# Gerando os arquivos de entrada para o modelo\n",
        "# X - os dados\n",
        "# y - as categorias \n",
        "\n",
        "X = train_dataset[['weight','height']]\n",
        "y = train_dataset[['label']]"
      ],
      "execution_count": 0,
      "outputs": []
    },
    {
      "cell_type": "markdown",
      "metadata": {
        "id": "K68IAPVdOb3V",
        "colab_type": "text"
      },
      "source": [
        "O seu objetivo é treinar diversos modelos de machine learning e usar o melhor modelo para classificar instâncias desconhecidas. Vamos fazer isso usando sempre como base a bliblioteca do Scikit-Learn."
      ]
    },
    {
      "cell_type": "code",
      "metadata": {
        "id": "T88XuFsvOm4j",
        "colab_type": "code",
        "colab": {}
      },
      "source": [
        "# Insira seu código a partir deste espaço"
      ],
      "execution_count": 0,
      "outputs": []
    },
    {
      "cell_type": "markdown",
      "metadata": {
        "id": "kUhN4i2FOs8u",
        "colab_type": "text"
      },
      "source": [
        "### Base de Teste\n",
        "\n",
        "Você pode testar o seu modelo fazendo a predição de novas instâncias desconhecidas. Você não possui o gabarito dessas instâncias. A mesma deve ser submetida no sistema para verificar a acurácia. "
      ]
    },
    {
      "cell_type": "code",
      "metadata": {
        "id": "cpshAfsqOvJ6",
        "colab_type": "code",
        "colab": {}
      },
      "source": [
        "# Download da base de teste\n",
        "test_dataset = pd.read_csv(\"http://data2learning.com/repo/datasets/060619/p1/test.csv\")"
      ],
      "execution_count": 0,
      "outputs": []
    },
    {
      "cell_type": "code",
      "metadata": {
        "id": "kQ7WZsfJOxRn",
        "colab_type": "code",
        "outputId": "66184acd-53f1-472e-8c3e-0d655349124e",
        "colab": {
          "base_uri": "https://localhost:8080/",
          "height": 204
        }
      },
      "source": [
        "test_dataset.head()"
      ],
      "execution_count": 0,
      "outputs": [
        {
          "output_type": "execute_result",
          "data": {
            "text/html": [
              "<div>\n",
              "<style scoped>\n",
              "    .dataframe tbody tr th:only-of-type {\n",
              "        vertical-align: middle;\n",
              "    }\n",
              "\n",
              "    .dataframe tbody tr th {\n",
              "        vertical-align: top;\n",
              "    }\n",
              "\n",
              "    .dataframe thead th {\n",
              "        text-align: right;\n",
              "    }\n",
              "</style>\n",
              "<table border=\"1\" class=\"dataframe\">\n",
              "  <thead>\n",
              "    <tr style=\"text-align: right;\">\n",
              "      <th></th>\n",
              "      <th>id</th>\n",
              "      <th>weight</th>\n",
              "      <th>height</th>\n",
              "    </tr>\n",
              "  </thead>\n",
              "  <tbody>\n",
              "    <tr>\n",
              "      <th>0</th>\n",
              "      <td>457</td>\n",
              "      <td>55.394923</td>\n",
              "      <td>163.830</td>\n",
              "    </tr>\n",
              "    <tr>\n",
              "      <th>1</th>\n",
              "      <td>257</td>\n",
              "      <td>48.137451</td>\n",
              "      <td>163.195</td>\n",
              "    </tr>\n",
              "    <tr>\n",
              "      <th>2</th>\n",
              "      <td>357</td>\n",
              "      <td>43.431434</td>\n",
              "      <td>152.400</td>\n",
              "    </tr>\n",
              "    <tr>\n",
              "      <th>3</th>\n",
              "      <td>532</td>\n",
              "      <td>41.050076</td>\n",
              "      <td>156.210</td>\n",
              "    </tr>\n",
              "    <tr>\n",
              "      <th>4</th>\n",
              "      <td>542</td>\n",
              "      <td>8.051258</td>\n",
              "      <td>71.120</td>\n",
              "    </tr>\n",
              "  </tbody>\n",
              "</table>\n",
              "</div>"
            ],
            "text/plain": [
              "    id     weight   height\n",
              "0  457  55.394923  163.830\n",
              "1  257  48.137451  163.195\n",
              "2  357  43.431434  152.400\n",
              "3  532  41.050076  156.210\n",
              "4  542   8.051258   71.120"
            ]
          },
          "metadata": {
            "tags": []
          },
          "execution_count": 9
        }
      ]
    },
    {
      "cell_type": "code",
      "metadata": {
        "id": "rp9JBKWYO0m6",
        "colab_type": "code",
        "colab": {}
      },
      "source": [
        "X_test = test_dataset[['weight','height']]\n"
      ],
      "execution_count": 0,
      "outputs": []
    },
    {
      "cell_type": "code",
      "metadata": {
        "id": "fm_RpkaTO3wP",
        "colab_type": "code",
        "colab": {}
      },
      "source": [
        "# Faça o predict a partir do X_test. Armazene o resultado na variavel predict_values\n",
        "# Insira seu código a partir deste espaço."
      ],
      "execution_count": 0,
      "outputs": []
    },
    {
      "cell_type": "code",
      "metadata": {
        "id": "YhszrKDtO6Nz",
        "colab_type": "code",
        "colab": {}
      },
      "source": [
        "# O X_ids é só para gerar o csv final.\n",
        "X_ids = test_dataset[['id']]\n",
        "X_ids = list(X_ids['id'])"
      ],
      "execution_count": 0,
      "outputs": []
    },
    {
      "cell_type": "code",
      "metadata": {
        "id": "LCL5wiPSO73q",
        "colab_type": "code",
        "colab": {}
      },
      "source": [
        "# Gera o CSV no formado de submissão\n",
        "\n",
        "def generate_csv(id_values, predict_result, filename):\n",
        "    count = 0\n",
        "    values = []\n",
        "    for id_value in id_values:\n",
        "        values.append((id_value, int(predict_result[count])))\n",
        "        count += 1\n",
        "\n",
        "    df = pd.DataFrame(values, columns=['id','class']) \n",
        "    df.to_csv(filename + \".csv\", sep=',', columns=['id','class'], index=False)"
      ],
      "execution_count": 0,
      "outputs": []
    },
    {
      "cell_type": "code",
      "metadata": {
        "id": "lNlDBeljO-lG",
        "colab_type": "code",
        "colab": {}
      },
      "source": [
        "# Gera o csv no formato de submissão do sistema\n",
        "generate_csv(X_ids, predict_values, \"p1_teste\")"
      ],
      "execution_count": 0,
      "outputs": []
    },
    {
      "cell_type": "code",
      "metadata": {
        "id": "vHvI8wKIPAWJ",
        "colab_type": "code",
        "colab": {}
      },
      "source": [
        "# Baixa o arquivo do colab\n",
        "\n",
        "from google.colab import files\n",
        "\n",
        "files.download(\"p1_teste.csv\")"
      ],
      "execution_count": 0,
      "outputs": []
    }
  ]
}