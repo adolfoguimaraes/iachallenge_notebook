{
  "nbformat": 4,
  "nbformat_minor": 0,
  "metadata": {
    "colab": {
      "name": "P03.ipynb",
      "provenance": [],
      "include_colab_link": true
    },
    "kernelspec": {
      "name": "python3",
      "display_name": "Python 3"
    }
  },
  "cells": [
    {
      "cell_type": "markdown",
      "metadata": {
        "id": "view-in-github",
        "colab_type": "text"
      },
      "source": [
        "<a href=\"https://colab.research.google.com/github/adolfoguimaraes/iachallenge_notebook/blob/master/notebooks/p03.ipynb\" target=\"_parent\"><img src=\"https://colab.research.google.com/assets/colab-badge.svg\" alt=\"Open In Colab\"/></a>"
      ]
    },
    {
      "cell_type": "code",
      "metadata": {
        "id": "KOqi07c41oS1",
        "colab_type": "code",
        "colab": {}
      },
      "source": [
        "# Imports necessários (insira neste espaço os imports necessários)\n",
        "\n",
        "import pandas as pd \n"
      ],
      "execution_count": 0,
      "outputs": []
    },
    {
      "cell_type": "markdown",
      "metadata": {
        "id": "JM0mQnZB4wFT",
        "colab_type": "text"
      },
      "source": [
        "# Problema 3 - Desafio Titanic\n",
        "\n",
        "## Treinamento\n",
        "\n",
        "Esse é o clássico problema do Titanic estudado até aqui. Seu objetivo é treinar um modelo que permita identificar se um passageiro morreu ou sobreviveu ao acidente do Titanic. \n",
        "\n",
        "Depois do modelo treinado deve-se aplicar a base de testes. Para que o problema seja avaliado de forma correta pelo sistema, não se pode remover nenhuma instância da base de testes. O modelo deve ser aplicado para todos os passageiros.\n",
        "\n",
        "Segue informações para baixar a base de dados. "
      ]
    },
    {
      "cell_type": "code",
      "metadata": {
        "id": "vbOJG0R-5Vhj",
        "colab_type": "code",
        "colab": {}
      },
      "source": [
        "# Download da base \n",
        "\n",
        "titanic_dataset_train = pd.read_csv(\"https://www.data2learning.com/repo/iachallenge/train_titanic.csv\")\n",
        "titanic_dataset_test = pd.read_csv(\"https://www.data2learning.com/repo/iachallenge/test_titanic.csv\")"
      ],
      "execution_count": 0,
      "outputs": []
    },
    {
      "cell_type": "code",
      "metadata": {
        "id": "WJG6Qqas5eKJ",
        "colab_type": "code",
        "outputId": "6de07e08-e838-414a-fcfc-eddcdaa963c9",
        "colab": {
          "base_uri": "https://localhost:8080/",
          "height": 204
        }
      },
      "source": [
        "titanic_dataset_train.head()"
      ],
      "execution_count": 4,
      "outputs": [
        {
          "output_type": "execute_result",
          "data": {
            "text/html": [
              "<div>\n",
              "<style scoped>\n",
              "    .dataframe tbody tr th:only-of-type {\n",
              "        vertical-align: middle;\n",
              "    }\n",
              "\n",
              "    .dataframe tbody tr th {\n",
              "        vertical-align: top;\n",
              "    }\n",
              "\n",
              "    .dataframe thead th {\n",
              "        text-align: right;\n",
              "    }\n",
              "</style>\n",
              "<table border=\"1\" class=\"dataframe\">\n",
              "  <thead>\n",
              "    <tr style=\"text-align: right;\">\n",
              "      <th></th>\n",
              "      <th>PassengerId</th>\n",
              "      <th>Survived</th>\n",
              "      <th>Pclass</th>\n",
              "      <th>Name</th>\n",
              "      <th>Sex</th>\n",
              "      <th>Age</th>\n",
              "      <th>SibSp</th>\n",
              "      <th>Parch</th>\n",
              "      <th>Ticket</th>\n",
              "      <th>Fare</th>\n",
              "      <th>Cabin</th>\n",
              "      <th>Embarked</th>\n",
              "    </tr>\n",
              "  </thead>\n",
              "  <tbody>\n",
              "    <tr>\n",
              "      <th>0</th>\n",
              "      <td>600</td>\n",
              "      <td>1</td>\n",
              "      <td>1</td>\n",
              "      <td>Duff Gordon, Sir. Cosmo Edmund (\"Mr Morgan\")</td>\n",
              "      <td>male</td>\n",
              "      <td>49.0</td>\n",
              "      <td>1</td>\n",
              "      <td>0</td>\n",
              "      <td>PC 17485</td>\n",
              "      <td>56.9292</td>\n",
              "      <td>A20</td>\n",
              "      <td>C</td>\n",
              "    </tr>\n",
              "    <tr>\n",
              "      <th>1</th>\n",
              "      <td>831</td>\n",
              "      <td>1</td>\n",
              "      <td>3</td>\n",
              "      <td>Yasbeck, Mrs. Antoni (Selini Alexander)</td>\n",
              "      <td>female</td>\n",
              "      <td>15.0</td>\n",
              "      <td>1</td>\n",
              "      <td>0</td>\n",
              "      <td>2659</td>\n",
              "      <td>14.4542</td>\n",
              "      <td>NaN</td>\n",
              "      <td>C</td>\n",
              "    </tr>\n",
              "    <tr>\n",
              "      <th>2</th>\n",
              "      <td>307</td>\n",
              "      <td>1</td>\n",
              "      <td>1</td>\n",
              "      <td>Fleming, Miss. Margaret</td>\n",
              "      <td>female</td>\n",
              "      <td>NaN</td>\n",
              "      <td>0</td>\n",
              "      <td>0</td>\n",
              "      <td>17421</td>\n",
              "      <td>110.8833</td>\n",
              "      <td>NaN</td>\n",
              "      <td>C</td>\n",
              "    </tr>\n",
              "    <tr>\n",
              "      <th>3</th>\n",
              "      <td>232</td>\n",
              "      <td>0</td>\n",
              "      <td>3</td>\n",
              "      <td>Larsson, Mr. Bengt Edvin</td>\n",
              "      <td>male</td>\n",
              "      <td>29.0</td>\n",
              "      <td>0</td>\n",
              "      <td>0</td>\n",
              "      <td>347067</td>\n",
              "      <td>7.7750</td>\n",
              "      <td>NaN</td>\n",
              "      <td>S</td>\n",
              "    </tr>\n",
              "    <tr>\n",
              "      <th>4</th>\n",
              "      <td>846</td>\n",
              "      <td>0</td>\n",
              "      <td>3</td>\n",
              "      <td>Abbing, Mr. Anthony</td>\n",
              "      <td>male</td>\n",
              "      <td>42.0</td>\n",
              "      <td>0</td>\n",
              "      <td>0</td>\n",
              "      <td>C.A. 5547</td>\n",
              "      <td>7.5500</td>\n",
              "      <td>NaN</td>\n",
              "      <td>S</td>\n",
              "    </tr>\n",
              "  </tbody>\n",
              "</table>\n",
              "</div>"
            ],
            "text/plain": [
              "   PassengerId  Survived  Pclass  ...      Fare Cabin  Embarked\n",
              "0          600         1       1  ...   56.9292   A20         C\n",
              "1          831         1       3  ...   14.4542   NaN         C\n",
              "2          307         1       1  ...  110.8833   NaN         C\n",
              "3          232         0       3  ...    7.7750   NaN         S\n",
              "4          846         0       3  ...    7.5500   NaN         S\n",
              "\n",
              "[5 rows x 12 columns]"
            ]
          },
          "metadata": {
            "tags": []
          },
          "execution_count": 4
        }
      ]
    },
    {
      "cell_type": "markdown",
      "metadata": {
        "id": "1KG_Aifm8WAP",
        "colab_type": "text"
      },
      "source": [
        "A descrição da base pode ser encontrada neste link: https://www.kaggle.com/c/titanic/data"
      ]
    },
    {
      "cell_type": "code",
      "metadata": {
        "id": "8yVhbOsD9gb-",
        "colab_type": "code",
        "colab": {}
      },
      "source": [
        "X = titanic_dataset_train[['Pclass','Name','Sex','Age','SibSp','Parch','Ticket','Fare','Cabin','Embarked']]\n",
        "y = titanic_dataset_train[['Survived']]"
      ],
      "execution_count": 0,
      "outputs": []
    },
    {
      "cell_type": "code",
      "metadata": {
        "id": "_a5QMQdM5lbb",
        "colab_type": "code",
        "colab": {}
      },
      "source": [
        "# Insira seu código a partir deste espaço"
      ],
      "execution_count": 0,
      "outputs": []
    },
    {
      "cell_type": "markdown",
      "metadata": {
        "id": "8LHIM0-x5pcO",
        "colab_type": "text"
      },
      "source": [
        "## Teste\n",
        "\n",
        "Após treinar, deve-se fazer a predição da base de testes utilizando o modelo. Com a lista resultante da aplicação dos modelos de predição, utilize a função a seguir para gerar o arquivo de submissão. \n",
        "\n",
        "O arquivo de submissão é formado por duas colunas. Na primeira tem o id dos passageiros e a segunda o label de classificação. No documento gerado, a primeira coluna é nomeada de **id** e a segunda de **class**. É fundamental que o arquivo tenha exatamente esse formato. \n",
        "\n",
        "Para baixar o arquivo gerado, acesse a o menu lateral na guia files. "
      ]
    },
    {
      "cell_type": "code",
      "metadata": {
        "id": "gf_JO5qh5zry",
        "colab_type": "code",
        "outputId": "4f19e1c4-cc61-4ab8-9b14-8d6ed0407d5d",
        "colab": {
          "base_uri": "https://localhost:8080/",
          "height": 204
        }
      },
      "source": [
        "# Base de Teste\n",
        "\n",
        "titanic_dataset_test.head()"
      ],
      "execution_count": 0,
      "outputs": [
        {
          "output_type": "execute_result",
          "data": {
            "text/html": [
              "<div>\n",
              "<style scoped>\n",
              "    .dataframe tbody tr th:only-of-type {\n",
              "        vertical-align: middle;\n",
              "    }\n",
              "\n",
              "    .dataframe tbody tr th {\n",
              "        vertical-align: top;\n",
              "    }\n",
              "\n",
              "    .dataframe thead th {\n",
              "        text-align: right;\n",
              "    }\n",
              "</style>\n",
              "<table border=\"1\" class=\"dataframe\">\n",
              "  <thead>\n",
              "    <tr style=\"text-align: right;\">\n",
              "      <th></th>\n",
              "      <th>Pclass</th>\n",
              "      <th>Name</th>\n",
              "      <th>Sex</th>\n",
              "      <th>Age</th>\n",
              "      <th>SibSp</th>\n",
              "      <th>Parch</th>\n",
              "      <th>Ticket</th>\n",
              "      <th>Fare</th>\n",
              "      <th>Cabin</th>\n",
              "      <th>Embarked</th>\n",
              "      <th>PassengerId</th>\n",
              "    </tr>\n",
              "  </thead>\n",
              "  <tbody>\n",
              "    <tr>\n",
              "      <th>0</th>\n",
              "      <td>3</td>\n",
              "      <td>Moubarek, Master. Halim Gonios (\"William George\")</td>\n",
              "      <td>male</td>\n",
              "      <td>NaN</td>\n",
              "      <td>1</td>\n",
              "      <td>1</td>\n",
              "      <td>2661</td>\n",
              "      <td>15.2458</td>\n",
              "      <td>NaN</td>\n",
              "      <td>C</td>\n",
              "      <td>9000</td>\n",
              "    </tr>\n",
              "    <tr>\n",
              "      <th>1</th>\n",
              "      <td>2</td>\n",
              "      <td>Kvillner, Mr. Johan Henrik Johannesson</td>\n",
              "      <td>male</td>\n",
              "      <td>31.0</td>\n",
              "      <td>0</td>\n",
              "      <td>0</td>\n",
              "      <td>C.A. 18723</td>\n",
              "      <td>10.5000</td>\n",
              "      <td>NaN</td>\n",
              "      <td>S</td>\n",
              "      <td>9001</td>\n",
              "    </tr>\n",
              "    <tr>\n",
              "      <th>2</th>\n",
              "      <td>3</td>\n",
              "      <td>Alhomaki, Mr. Ilmari Rudolf</td>\n",
              "      <td>male</td>\n",
              "      <td>20.0</td>\n",
              "      <td>0</td>\n",
              "      <td>0</td>\n",
              "      <td>SOTON/O2 3101287</td>\n",
              "      <td>7.9250</td>\n",
              "      <td>NaN</td>\n",
              "      <td>S</td>\n",
              "      <td>9002</td>\n",
              "    </tr>\n",
              "    <tr>\n",
              "      <th>3</th>\n",
              "      <td>2</td>\n",
              "      <td>Harper, Miss. Annie Jessie \"Nina\"</td>\n",
              "      <td>female</td>\n",
              "      <td>6.0</td>\n",
              "      <td>0</td>\n",
              "      <td>1</td>\n",
              "      <td>248727</td>\n",
              "      <td>33.0000</td>\n",
              "      <td>NaN</td>\n",
              "      <td>S</td>\n",
              "      <td>9003</td>\n",
              "    </tr>\n",
              "    <tr>\n",
              "      <th>4</th>\n",
              "      <td>3</td>\n",
              "      <td>Nicola-Yarred, Miss. Jamila</td>\n",
              "      <td>female</td>\n",
              "      <td>14.0</td>\n",
              "      <td>1</td>\n",
              "      <td>0</td>\n",
              "      <td>2651</td>\n",
              "      <td>11.2417</td>\n",
              "      <td>NaN</td>\n",
              "      <td>C</td>\n",
              "      <td>9004</td>\n",
              "    </tr>\n",
              "  </tbody>\n",
              "</table>\n",
              "</div>"
            ],
            "text/plain": [
              "   Pclass  ... PassengerId\n",
              "0       3  ...        9000\n",
              "1       2  ...        9001\n",
              "2       3  ...        9002\n",
              "3       2  ...        9003\n",
              "4       3  ...        9004\n",
              "\n",
              "[5 rows x 11 columns]"
            ]
          },
          "metadata": {
            "tags": []
          },
          "execution_count": 5
        }
      ]
    },
    {
      "cell_type": "code",
      "metadata": {
        "id": "oP6H1ovZ-geQ",
        "colab_type": "code",
        "colab": {}
      },
      "source": [
        "X_test = titanic_dataset_test[['Pclass','Name','Sex','Age','SibSp','Parch','Ticket','Fare','Cabin','Embarked']]"
      ],
      "execution_count": 0,
      "outputs": []
    },
    {
      "cell_type": "code",
      "metadata": {
        "id": "g3Gevl9w55aA",
        "colab_type": "code",
        "colab": {}
      },
      "source": [
        "# Insira seu código a partir deste espaço"
      ],
      "execution_count": 0,
      "outputs": []
    },
    {
      "cell_type": "markdown",
      "metadata": {
        "id": "F0MejmB56DLM",
        "colab_type": "text"
      },
      "source": [
        "## Gerar aquivo de submissão"
      ]
    },
    {
      "cell_type": "code",
      "metadata": {
        "id": "6Bz6tcoI6olU",
        "colab_type": "code",
        "colab": {}
      },
      "source": [
        "# O X_ids é só para gerar o csv final.\n",
        "X_ids = titanic_dataset_test.PassengerId\n",
        "X_ids = list(X_ids)"
      ],
      "execution_count": 0,
      "outputs": []
    },
    {
      "cell_type": "code",
      "metadata": {
        "id": "kWDmpfRy57XS",
        "colab_type": "code",
        "colab": {}
      },
      "source": [
        "# Gera o CSV no formado de submissão\n",
        "\n",
        "# id_values: lista de ids da base de dados\n",
        "# predict_result: lista resultante da aplicação do predict do modelo escolhido\n",
        "# filename: nome do arquivo\n",
        "\n",
        "def generate_csv(id_values, predict_result, filename):\n",
        "    count = 0\n",
        "    values = []\n",
        "    for id_value in id_values:\n",
        "        values.append((id_value, int(predict_result[count])))\n",
        "        count += 1\n",
        "\n",
        "    df = pd.DataFrame(values, columns=['id','class']) \n",
        "    df.to_csv(filename + \".csv\", sep=',', columns=['id','class'], index=False)"
      ],
      "execution_count": 0,
      "outputs": []
    },
    {
      "cell_type": "code",
      "metadata": {
        "id": "_FbWFcM76JEU",
        "colab_type": "code",
        "colab": {}
      },
      "source": [
        "# Gera o csv no formato de submissão do sistema\n",
        "generate_csv(X_ids, predict_values, \"p3_teste\")"
      ],
      "execution_count": 0,
      "outputs": []
    },
    {
      "cell_type": "code",
      "metadata": {
        "id": "gvHj96Me6L74",
        "colab_type": "code",
        "colab": {}
      },
      "source": [
        "# Baixa o arquivo do colab\n",
        "\n",
        "from google.colab import files\n",
        "\n",
        "files.download(\"p3_teste.csv\")"
      ],
      "execution_count": 0,
      "outputs": []
    }
  ]
}