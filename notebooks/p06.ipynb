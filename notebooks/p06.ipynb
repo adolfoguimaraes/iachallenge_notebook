{
  "nbformat": 4,
  "nbformat_minor": 0,
  "metadata": {
    "colab": {
      "name": "p06.ipynb",
      "provenance": [],
      "collapsed_sections": [],
      "include_colab_link": true
    },
    "kernelspec": {
      "name": "python3",
      "display_name": "Python 3"
    }
  },
  "cells": [
    {
      "cell_type": "markdown",
      "metadata": {
        "id": "view-in-github",
        "colab_type": "text"
      },
      "source": [
        "<a href=\"https://colab.research.google.com/github/adolfoguimaraes/iachallenge_notebook/blob/master/notebooks/p06.ipynb\" target=\"_parent\"><img src=\"https://colab.research.google.com/assets/colab-badge.svg\" alt=\"Open In Colab\"/></a>"
      ]
    },
    {
      "cell_type": "code",
      "metadata": {
        "id": "ceBek3nzu9iR",
        "colab_type": "code",
        "colab": {}
      },
      "source": [
        "# Imports \n",
        "\n",
        "import pandas as pd"
      ],
      "execution_count": 0,
      "outputs": []
    },
    {
      "cell_type": "markdown",
      "metadata": {
        "id": "-5WfBDOFrEKd",
        "colab_type": "text"
      },
      "source": [
        "# Problema 6 - Classificação de Notícias\n",
        "\n",
        "A proposta deste desafio é construir um modelo de classificação de documentos da Folha de São Paulo. Será utilizada uma parte da base utilizada no [desafio correspondente do Kaggle](https://www.kaggle.com/marlesson/news-of-the-site-folhauol).\n",
        "\n",
        "Foram selecionados 60000 textos (10000 por categoria). O modelo será testado em uma base de teste que possui 6000 textos (1000 de cada categoria). O desafio trabalha com 6 categorias: (0) Esporte, (1) Poder, (2) Mundo, (3) Mercado, (4) Contidiano e (5) Colunas. Essas categorias foram escolhidas por serem as que possuem maior número de documentos na base original. "
      ]
    },
    {
      "cell_type": "markdown",
      "metadata": {
        "id": "Qz11pgC2u4AB",
        "colab_type": "text"
      },
      "source": [
        "## Carregando a base de treinamento"
      ]
    },
    {
      "cell_type": "code",
      "metadata": {
        "id": "PAN4mcbWqzHv",
        "colab_type": "code",
        "colab": {}
      },
      "source": [
        "dataset_train = pd.read_csv(\"https://www.data2learning.com/repo/iachallenge/train_dataset_p6.csv\")"
      ],
      "execution_count": 0,
      "outputs": []
    },
    {
      "cell_type": "code",
      "metadata": {
        "id": "aKJIKNmqvIGb",
        "colab_type": "code",
        "colab": {}
      },
      "source": [
        "# Ajuste da base - é necessário deletar esta linha\n",
        "\n",
        "dataset_train = dataset_train.drop(9677)"
      ],
      "execution_count": 0,
      "outputs": []
    },
    {
      "cell_type": "code",
      "metadata": {
        "id": "xqVDtwkVR9LS",
        "colab_type": "code",
        "outputId": "da5938e3-b26d-4cd7-98a7-077b38e72dc6",
        "colab": {
          "base_uri": "https://localhost:8080/",
          "height": 204
        }
      },
      "source": [
        "dataset_train.head()"
      ],
      "execution_count": 0,
      "outputs": [
        {
          "output_type": "execute_result",
          "data": {
            "text/html": [
              "<div>\n",
              "<style scoped>\n",
              "    .dataframe tbody tr th:only-of-type {\n",
              "        vertical-align: middle;\n",
              "    }\n",
              "\n",
              "    .dataframe tbody tr th {\n",
              "        vertical-align: top;\n",
              "    }\n",
              "\n",
              "    .dataframe thead th {\n",
              "        text-align: right;\n",
              "    }\n",
              "</style>\n",
              "<table border=\"1\" class=\"dataframe\">\n",
              "  <thead>\n",
              "    <tr style=\"text-align: right;\">\n",
              "      <th></th>\n",
              "      <th>text</th>\n",
              "      <th>label</th>\n",
              "    </tr>\n",
              "  </thead>\n",
              "  <tbody>\n",
              "    <tr>\n",
              "      <th>0</th>\n",
              "      <td>No dia em que deixou a Síria com instruções pa...</td>\n",
              "      <td>2</td>\n",
              "    </tr>\n",
              "    <tr>\n",
              "      <th>1</th>\n",
              "      <td>Havia um vazio em Brasília e ele foi ocupado p...</td>\n",
              "      <td>5</td>\n",
              "    </tr>\n",
              "    <tr>\n",
              "      <th>2</th>\n",
              "      <td>Espaços vazios de terminais do metrô e de ônib...</td>\n",
              "      <td>4</td>\n",
              "    </tr>\n",
              "    <tr>\n",
              "      <th>3</th>\n",
              "      <td>A primeira imagem mostra uma multidão de milha...</td>\n",
              "      <td>2</td>\n",
              "    </tr>\n",
              "    <tr>\n",
              "      <th>4</th>\n",
              "      <td>A seletiva francesa para o Mundial de Kazan te...</td>\n",
              "      <td>0</td>\n",
              "    </tr>\n",
              "  </tbody>\n",
              "</table>\n",
              "</div>"
            ],
            "text/plain": [
              "                                                text  label\n",
              "0  No dia em que deixou a Síria com instruções pa...      2\n",
              "1  Havia um vazio em Brasília e ele foi ocupado p...      5\n",
              "2  Espaços vazios de terminais do metrô e de ônib...      4\n",
              "3  A primeira imagem mostra uma multidão de milha...      2\n",
              "4  A seletiva francesa para o Mundial de Kazan te...      0"
            ]
          },
          "metadata": {
            "tags": []
          },
          "execution_count": 6
        }
      ]
    },
    {
      "cell_type": "code",
      "metadata": {
        "id": "AWq-PALwRRhc",
        "colab_type": "code",
        "outputId": "711244fb-e090-43ab-d8dc-3f6d7f681e33",
        "colab": {
          "base_uri": "https://localhost:8080/",
          "height": 34
        }
      },
      "source": [
        "dataset_train.shape"
      ],
      "execution_count": 0,
      "outputs": [
        {
          "output_type": "execute_result",
          "data": {
            "text/plain": [
              "(59999, 2)"
            ]
          },
          "metadata": {
            "tags": []
          },
          "execution_count": 4
        }
      ]
    },
    {
      "cell_type": "code",
      "metadata": {
        "id": "S2BNtFxTzDPN",
        "colab_type": "code",
        "colab": {}
      },
      "source": [
        "X = list(dataset_train.text)\n",
        "y = list(dataset_train.label)"
      ],
      "execution_count": 0,
      "outputs": []
    },
    {
      "cell_type": "code",
      "metadata": {
        "id": "ZSpY3sZpzMfp",
        "colab_type": "code",
        "colab": {}
      },
      "source": [
        "# Coloque seu código a partir deste espaço"
      ],
      "execution_count": 0,
      "outputs": []
    },
    {
      "cell_type": "markdown",
      "metadata": {
        "id": "FFQhwzGevJAc",
        "colab_type": "text"
      },
      "source": [
        "## Base de Teste"
      ]
    },
    {
      "cell_type": "code",
      "metadata": {
        "id": "xZQwiWrTvMrL",
        "colab_type": "code",
        "colab": {}
      },
      "source": [
        "dataset_test = pd.read_csv(\"https://www.data2learning.com/repo/iachallenge/test_dataset_p6.csv\")"
      ],
      "execution_count": 0,
      "outputs": []
    },
    {
      "cell_type": "code",
      "metadata": {
        "id": "ZwbUDIHnSOUA",
        "colab_type": "code",
        "outputId": "443ba765-4b1d-4732-f273-448e24801be2",
        "colab": {
          "base_uri": "https://localhost:8080/",
          "height": 204
        }
      },
      "source": [
        "dataset_test.head()"
      ],
      "execution_count": 0,
      "outputs": [
        {
          "output_type": "execute_result",
          "data": {
            "text/html": [
              "<div>\n",
              "<style scoped>\n",
              "    .dataframe tbody tr th:only-of-type {\n",
              "        vertical-align: middle;\n",
              "    }\n",
              "\n",
              "    .dataframe tbody tr th {\n",
              "        vertical-align: top;\n",
              "    }\n",
              "\n",
              "    .dataframe thead th {\n",
              "        text-align: right;\n",
              "    }\n",
              "</style>\n",
              "<table border=\"1\" class=\"dataframe\">\n",
              "  <thead>\n",
              "    <tr style=\"text-align: right;\">\n",
              "      <th></th>\n",
              "      <th>id</th>\n",
              "      <th>text</th>\n",
              "    </tr>\n",
              "  </thead>\n",
              "  <tbody>\n",
              "    <tr>\n",
              "      <th>0</th>\n",
              "      <td>0</td>\n",
              "      <td>GABRIEL MASCARENHAS DE BRASÍLIA  A Polícia Fed...</td>\n",
              "    </tr>\n",
              "    <tr>\n",
              "      <th>1</th>\n",
              "      <td>1</td>\n",
              "      <td>Aos 38 anos, o argentino Mario Bravo conheceu ...</td>\n",
              "    </tr>\n",
              "    <tr>\n",
              "      <th>2</th>\n",
              "      <td>2</td>\n",
              "      <td>Atual campeão da NBA, o Golden State Warriors ...</td>\n",
              "    </tr>\n",
              "    <tr>\n",
              "      <th>3</th>\n",
              "      <td>3</td>\n",
              "      <td>Um homem de 23 anos foi detido na madrugada de...</td>\n",
              "    </tr>\n",
              "    <tr>\n",
              "      <th>4</th>\n",
              "      <td>4</td>\n",
              "      <td>A pediatra de Porto Alegre (RS) que se recusou...</td>\n",
              "    </tr>\n",
              "  </tbody>\n",
              "</table>\n",
              "</div>"
            ],
            "text/plain": [
              "   id                                               text\n",
              "0   0  GABRIEL MASCARENHAS DE BRASÍLIA  A Polícia Fed...\n",
              "1   1  Aos 38 anos, o argentino Mario Bravo conheceu ...\n",
              "2   2  Atual campeão da NBA, o Golden State Warriors ...\n",
              "3   3  Um homem de 23 anos foi detido na madrugada de...\n",
              "4   4  A pediatra de Porto Alegre (RS) que se recusou..."
            ]
          },
          "metadata": {
            "tags": []
          },
          "execution_count": 10
        }
      ]
    },
    {
      "cell_type": "code",
      "metadata": {
        "id": "mQrbdLKevXB2",
        "colab_type": "code",
        "colab": {}
      },
      "source": [
        "# Carrega somente os textos da base de testes\n",
        "X_test = dataset_test['text']"
      ],
      "execution_count": 0,
      "outputs": []
    },
    {
      "cell_type": "code",
      "metadata": {
        "id": "sKw2Xv2jzay2",
        "colab_type": "code",
        "colab": {}
      },
      "source": [
        "# Coloque seu código a partir deste espaço"
      ],
      "execution_count": 0,
      "outputs": []
    },
    {
      "cell_type": "markdown",
      "metadata": {
        "id": "DogDzXz8FWxO",
        "colab_type": "text"
      },
      "source": [
        "## Geração do arquivo de submissão"
      ]
    },
    {
      "cell_type": "code",
      "metadata": {
        "id": "UfPQTFlMqNda",
        "colab_type": "code",
        "colab": {}
      },
      "source": [
        "# Lista de Ids para gerar o arquivo final\n",
        "X_ids = dataset_test[['id']]\n",
        "X_ids = list(X_ids['id'])"
      ],
      "execution_count": 0,
      "outputs": []
    },
    {
      "cell_type": "code",
      "metadata": {
        "id": "Ly7LOMlip_Qd",
        "colab_type": "code",
        "colab": {}
      },
      "source": [
        "# Gera o CSV no formado de submissão\n",
        "\n",
        "def generate_csv(id_values, predict_result, filename):\n",
        "    count = 0\n",
        "    values = []\n",
        "    for id_value in id_values:\n",
        "        values.append((id_value, int(predict_result[count])))\n",
        "        count += 1\n",
        "\n",
        "    df = pd.DataFrame(values, columns=['id','class']) \n",
        "    df.to_csv(filename + \".csv\", sep=',', columns=['id','class'], index=False)"
      ],
      "execution_count": 0,
      "outputs": []
    },
    {
      "cell_type": "code",
      "metadata": {
        "id": "pzXMDgQqqMPD",
        "colab_type": "code",
        "colab": {}
      },
      "source": [
        "# Gera o csv no formato de submissão do sistema\n",
        "generate_csv(X_ids, predict_values, \"p6_teste\")"
      ],
      "execution_count": 0,
      "outputs": []
    },
    {
      "cell_type": "code",
      "metadata": {
        "id": "MgkROKFfFrqh",
        "colab_type": "code",
        "colab": {}
      },
      "source": [
        "# Baixa o arquivo do colab\n",
        "\n",
        "from google.colab import files\n",
        "\n",
        "files.download(\"p6_teste.csv\")"
      ],
      "execution_count": 0,
      "outputs": []
    }
  ]
}